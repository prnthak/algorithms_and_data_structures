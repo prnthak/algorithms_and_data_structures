{
 "cells": [
  {
   "cell_type": "markdown",
   "metadata": {},
   "source": [
    "# Coding Problems\n",
    "\n",
    "## Objective\n",
    "\n",
    "This assignment aims to demonstrate how to study a data structures or algorithms question in depth to prepare for an industry coding interview. Leetcode is a popular coding practice site that many use to practice for technical interviews. Like behavioral interviews, it's important to practice and keep your skills sharp.\n",
    "\n",
    "## Group Size\n",
    "\n",
    "Please complete this individually.\n",
    "\n",
    "## Part 1:\n",
    "\n",
    "_*You will be assigned one of three problems based of your first name. Execute the code below, and that will tell you your assigned problem. Include the output as part of your submission (do not clear the output). The problems are based-off problems from Leetcode.*_\n"
   ]
  },
  {
   "cell_type": "code",
   "execution_count": 1,
   "metadata": {},
   "outputs": [
    {
     "name": "stdout",
     "output_type": "stream",
     "text": [
      "1\n"
     ]
    }
   ],
   "source": [
    "print((hash('Parva') % 3) + 1)"
   ]
  },
  {
   "cell_type": "markdown",
   "metadata": {},
   "source": [
    "<details>\n",
    "  <summary>Question 1</summary>\n",
    "\n",
    "  # Question One: Check Duplicates in Tree\n",
    "\n",
    "  Given the `root` of a binary tree, check whether it is contains a duplicate value. If a duplicate exists, return the duplicate value. If there are multiple duplicates, return the one with the closest distance to the root. If no duplicate exists, return -1.\n",
    "\n",
    "  ## Examples\n",
    "\n",
    "  ### Example 1\n",
    "\n",
    "  ![](./images/q1_ex1.png)\n",
    "\n",
    "  Input: `root = [1, 2, 2, 3, 5, 6, 7]` *What traversal method is this?*\n",
    "\n",
    "  Output: 2\n",
    "\n",
    "  ### Example 2\n",
    "\n",
    "  ![](./images/q1_ex2.png)\n",
    "\n",
    "  Input: `root = [1, 10, 2, 3, 10, 12, 12]`\n",
    "\n",
    "  Output: 10\n",
    "\n",
    "  ### Example 3\n",
    "\n",
    "  ![](./images/q1_ex3.png)\n",
    "\n",
    "  Input: `root = [10, 9, 8, 7]`\n",
    "\n",
    "  Output: -1\n",
    "\n",
    "</details>\n",
    "\n",
    "#### Starter Code for Question 1"
   ]
  },
  {
   "cell_type": "code",
   "execution_count": 24,
   "metadata": {},
   "outputs": [
    {
     "name": "stdout",
     "output_type": "stream",
     "text": [
      "Duplicate value closest to root: 2\n",
      "Duplicate value closest to root: 12\n",
      "Duplicate value closest to root: -1\n"
     ]
    }
   ],
   "source": [
    "# Definition for a binary tree node.\n",
    "class TreeNode(object):\n",
    "     def __init__(self, val = 0, left = None, right = None):\n",
    "         self.val = val\n",
    "         self.left = left\n",
    "         self.right = right\n",
    "\n",
    "def tree_builder  (arr : list[int], i : int, n: int) -> TreeNode:\n",
    "   if not arr:\n",
    "      return None\n",
    "   root = None\n",
    "   if i < n and arr[i] is not None:\n",
    "       root = TreeNode(arr[i])\n",
    "       root.left = tree_builder(arr,2*i+1,n)\n",
    "       root.right = tree_builder(arr, 2*i+2,n)\n",
    "       return root\n"
   ]
  },
  {
   "cell_type": "markdown",
   "metadata": {},
   "source": [
    "<details>\n",
    "  <summary>Question 2</summary>\n",
    "\n",
    "  # Question Two: Path to Leaves\n",
    "\n",
    "  Given the `root` of a binary tree, return all root to leaf paths in any order.\n",
    "\n",
    "  ## Examples\n",
    "\n",
    "  ### Example 1\n",
    "\n",
    "  ![](./images/q1_ex1.png)\n",
    "\n",
    "  Input: `root = [1, 2, 2, 3, 5, 6, 7]` *What traversal method is this?*\n",
    "\n",
    "  Output: [[1, 2, 3], [1, 2, 5], [1, 2, 6], [1, 2, 7]]\n",
    "\n",
    "  ### Example 2\n",
    "\n",
    "  ![](./images/q1_ex3.png)\n",
    "\n",
    "  Input: `root = [10, 9, 8, 7]`\n",
    "\n",
    "  Output: [[10, 7], [10, 9, 8]]\n",
    "\n",
    "</details>\n",
    "\n",
    "#### Starter Code for Question 2"
   ]
  },
  {
   "cell_type": "code",
   "execution_count": null,
   "metadata": {},
   "outputs": [],
   "source": [
    "# Definition for a binary tree node.\n",
    "# class TreeNode(object):\n",
    "#     def __init__(self, val = 0, left = None, right = None):\n",
    "#         self.val = val\n",
    "#         self.left = left\n",
    "#         self.right = right\n",
    "def bt_path(root: TreeNode) -> List[List[int]]:\n",
    "  # TODO"
   ]
  },
  {
   "cell_type": "markdown",
   "metadata": {},
   "source": [
    "<details>\n",
    "  <summary>Question 3</summary>\n",
    "\n",
    "  # Question Three: Missing Number in Range\n",
    " \n",
    "  You are given a list containing `n` integers in the range `[0, n]`. Return a list of numbers that are missing from the range `[0, n]` of the array. If there is no missing number, return -1. Note, all the integers in the list may not be unique.\n",
    "  \n",
    "  ## Examples\n",
    "\n",
    "  ### Example 1\n",
    "\n",
    "  Input: `lst = [0, 2]`\n",
    "\n",
    "  Output: [1]\n",
    "\n",
    "  ### Example 2\n",
    "\n",
    "  Input: `lst = [5, 0, 1]`\n",
    "\n",
    "  Output: [2, 3, 4]\n",
    "\n",
    "  ### Example 3\n",
    "\n",
    "  Input: `lst = [6, 8, 2, 3, 5, 7, 0, 1, 10]`\n",
    "\n",
    "  Output: [4, 9]\n",
    "\n",
    "</details>\n",
    "\n",
    "#### Starter Code for Question 3\n"
   ]
  },
  {
   "cell_type": "code",
   "execution_count": null,
   "metadata": {},
   "outputs": [],
   "source": [
    "def missing_num(nums: List) -> int:\n",
    "  # TODO"
   ]
  },
  {
   "cell_type": "markdown",
   "metadata": {},
   "source": [
    "\n",
    "## Part 2:\n",
    "\n",
    "-   Paraphrase the problem in your own words\n"
   ]
  },
  {
   "cell_type": "code",
   "execution_count": null,
   "metadata": {},
   "outputs": [],
   "source": [
    "# Your answer here\n",
    "\n",
    "# The task involved for question 1 as I saw it was creating a recursive/looping system to first draw a binary tree, on a Breath first search transversal and then tranversing through each node with placing it in a set and picking the first duplicate and reporting it.  "
   ]
  },
  {
   "cell_type": "markdown",
   "metadata": {},
   "source": [
    "\n",
    "-   In the .md file containing your problem, there are examples that illustrate how the code should work. Create 2 new examples that demonstrate you understand the problem.\n"
   ]
  },
  {
   "cell_type": "code",
   "execution_count": 69,
   "metadata": {},
   "outputs": [
    {
     "name": "stdout",
     "output_type": "stream",
     "text": [
      "Duplicate value closest to root: 20\n",
      "Duplicate value closest to root: -1\n"
     ]
    }
   ],
   "source": [
    "# Your answer here\n",
    "\n",
    "arr4 = [10, 9, 1, 7,8,2,11,12,13,15,16,18,19,20,20]\n",
    "root4 = tree_builder(arr4, 0, len(arr4))\n",
    "duplicate_value4 = find_duplicate_closest_to_root(root4)\n",
    "print(\"Duplicate value closest to root:\", duplicate_value4)\n",
    "\n",
    "arr5 = []\n",
    "root5 = tree_builder(arr5, 0, len(arr5))\n",
    "duplicate_value5 = find_duplicate_closest_to_root(root5)\n",
    "print(\"Duplicate value closest to root:\", duplicate_value5)"
   ]
  },
  {
   "cell_type": "markdown",
   "metadata": {},
   "source": [
    "\n",
    "-   Code the solution to your assigned problem in Python (code chunk). Try to find the best time and space complexity solution!\n"
   ]
  },
  {
   "cell_type": "code",
   "execution_count": 67,
   "metadata": {},
   "outputs": [
    {
     "name": "stdout",
     "output_type": "stream",
     "text": [
      "Duplicate value closest to root: 2\n",
      "Duplicate value closest to root: 10\n",
      "Duplicate value closest to root: -1\n"
     ]
    }
   ],
   "source": [
    "# Your answer here\n",
    "# 1 Create the set and Stack\n",
    "def find_duplicate_closest_to_root(root: TreeNode) -> int:\n",
    "    if root is None:\n",
    "        return -1\n",
    "\n",
    "    seen = set()\n",
    "    stack = [root]\n",
    "# 2 Add the node to the stack, then check that node in the seen, if present return node value \n",
    "    while stack:\n",
    "        node = stack.pop()\n",
    "\n",
    "        if node.val in seen:\n",
    "            return node.val\n",
    "        else:\n",
    "            seen.add(node.val)\n",
    "# 3 pushed node right to stack then push left, because stack is last in first out it look at left node first and then the right.\n",
    "        if node.right:\n",
    "            stack.append(node.right)\n",
    "        if node.left:\n",
    "            stack.append(node.left)\n",
    "# 4 node in stack will get taken out as they are added to the seen set unless it is present in the set. \n",
    "    return -1\n",
    "\n",
    "\n",
    "arr1 = [1, 2, 2, 3, 5, 6, 7]\n",
    "root1 = tree_builder(arr1, 0, len(arr1))\n",
    "duplicate_value1 = find_duplicate_closest_to_root(root1)\n",
    "print(\"Duplicate value closest to root:\", duplicate_value1)\n",
    "\n",
    "arr2 = [1, 10, 2, 3, 10, 12, 12]\n",
    "root2 = tree_builder(arr2, 0, len(arr2))\n",
    "duplicate_value2 = find_duplicate_closest_to_root(root2)\n",
    "print(\"Duplicate value closest to root:\", duplicate_value2)\n",
    "\n",
    "arr3 = [10, 9, 8, 7]\n",
    "root3 = tree_builder(arr3, 0, len(arr3))\n",
    "duplicate_value3 = find_duplicate_closest_to_root(root3)\n",
    "print(\"Duplicate value closest to root:\", duplicate_value3)"
   ]
  },
  {
   "cell_type": "markdown",
   "metadata": {},
   "source": [
    "\n",
    "-   Explain why your solution works\n"
   ]
  },
  {
   "cell_type": "code",
   "execution_count": 71,
   "metadata": {},
   "outputs": [],
   "source": [
    "# Your answer here\n",
    "# As nodes get added to the stack (begining from root) it will be added to set, then I added the right node and its sister left node to the stack, the left node will get added to the set and its nodes both right and left will be added to the stack, assuming both are unique or None, they will be removed from the stack poping the right node of the root and appending its nodes. \n",
    "# The helper transverses through each of the node in a top down method (breadth first search) and puts it in a set.\n",
    "\n"
   ]
  },
  {
   "cell_type": "markdown",
   "metadata": {},
   "source": [
    "\n",
    "-   Explain the problem’s and space complexity\n"
   ]
  },
  {
   "cell_type": "code",
   "execution_count": null,
   "metadata": {},
   "outputs": [],
   "source": [
    "# Your answer here\n",
    "# This code push all the left side to the stack then right traversing all nodes once. Setting time complexity to O(n).\n",
    "# Considering that all the values will be stored in the set in the worst case where there are no duplicates the space complexity will be O(n)\n",
    "\n"
   ]
  },
  {
   "cell_type": "markdown",
   "metadata": {},
   "source": [
    "\n",
    "-   Explain the thinking to an alternative solution (no coding required, but a classmate reading this should be able to code it up based off your text)\n"
   ]
  },
  {
   "cell_type": "code",
   "execution_count": null,
   "metadata": {},
   "outputs": [],
   "source": [
    "# Your answer here\n",
    "\n",
    "# Step 1 Define the helper function that will tranverse through the nodes and check for duplicates by adding to a set named seen\n",
    "\n",
    "# Step 1.1.0 Check if the value of the current node has already been 'seen' set, if it is present then return that node as the first duplicate. Otherwise add the node to the 'seen' set \n",
    "# Step 1.1.1  Base case : If the current node is none return -1 \n",
    "# Step 1.1.2 Check : Else check value with in seen\n",
    "# Step 1.1.3 Otherwise add the value to seen \n",
    "\n",
    "# Step 1.2.0 Recursive Transversal : See left node, by recalling helper function to again add the node to 'seen' set if not already present.\n",
    "# Step 1.2.1 Left subtree: Recall helper function to return if duplicate otherwise add to seen\n",
    "# Step 1.2.2 Right subtree: Recall helper function to return if duplicate found othewise add to seen\n",
    "# Explain if goes through all the nodes in the left side(to the leaf). It will look at the at the right nodes this time. This is because at the leaf of the longest left branch if helper results in -1 then it will move to look at the right branch with the same node being called. If that too is -1. It will go up a node repeating until root then transverse the right side of the root.\n",
    "\n",
    "\n",
    "# Step 2 : Calling the helper function to traverse the nodes in context of the root and designating the set outside for the helper to fill up and keep track of the visited nodes. \n"
   ]
  },
  {
   "cell_type": "markdown",
   "metadata": {},
   "source": [
    "## Evaluation Criteria\n",
    "\n",
    "-   Problem is accurately stated\n",
    "\n",
    "-   Two examples are correct and easily understandable\n",
    "\n",
    "-   Correctness, time, and space complexity of the coding solution\n",
    "\n",
    "-   Clarity in explaining why the solution works, its time and space complexity\n",
    "\n",
    "-   Clarity in the proposal to the alternative solution"
   ]
  },
  {
   "cell_type": "markdown",
   "metadata": {},
   "source": [
    "## Submission Information\n",
    "\n",
    "🚨 **Please review our [Assignment Submission Guide](https://github.com/UofT-DSI/onboarding/blob/main/onboarding_documents/submissions.md)** 🚨 for detailed instructions on how to format, branch, and submit your work. Following these guidelines is crucial for your submissions to be evaluated correctly.\n",
    "\n",
    "### Submission Parameters:\n",
    "* Submission Due Date: `HH:MM AM/PM - DD/MM/YYYY`\n",
    "* The branch name for your repo should be: `assignment-1`\n",
    "* What to submit for this assignment:\n",
    "    * This Jupyter Notebook (assignment_1.ipynb) should be populated and should be the only change in your pull request.\n",
    "* What the pull request link should look like for this assignment: `https://github.com/<your_github_username>/algorithms_and_data_structures/pull/<pr_id>`\n",
    "    * Open a private window in your browser. Copy and paste the link to your pull request into the address bar. Make sure you can see your pull request properly. This helps the technical facilitator and learning support staff review your submission easily.\n",
    "\n",
    "Checklist:\n",
    "- [ ] Create a branch called `assignment-1`.\n",
    "- [ ] Ensure that the repository is public.\n",
    "- [ ] Review [the PR description guidelines](https://github.com/UofT-DSI/onboarding/blob/main/onboarding_documents/submissions.md#guidelines-for-pull-request-descriptions) and adhere to them.\n",
    "- [ ] Verify that the link is accessible in a private browser window.\n",
    "\n",
    "If you encounter any difficulties or have questions, please don't hesitate to reach out to our team via our Slack at `#cohort-3-help`. Our Technical Facilitators and Learning Support staff are here to help you navigate any challenges."
   ]
  }
 ],
 "metadata": {
  "kernelspec": {
   "display_name": "Python 3",
   "language": "python",
   "name": "python3"
  },
  "language_info": {
   "codemirror_mode": {
    "name": "ipython",
    "version": 3
   },
   "file_extension": ".py",
   "mimetype": "text/x-python",
   "name": "python",
   "nbconvert_exporter": "python",
   "pygments_lexer": "ipython3",
   "version": "3.9.15"
  }
 },
 "nbformat": 4,
 "nbformat_minor": 2
}
